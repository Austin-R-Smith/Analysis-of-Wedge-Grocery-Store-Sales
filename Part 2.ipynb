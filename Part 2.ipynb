{
 "cells": [
  {
   "cell_type": "markdown",
   "id": "1cd56fa5",
   "metadata": {},
   "source": [
    "# PART 2 \n",
    "\n",
    "## BUILD A SAMPLE OF OWNERS\n",
    "\n",
    "In the following python script, I connect to my GBQ instance, build a list of owners, take a sample of the owners, extract all records associated with those owners, and write them to a local text file. "
   ]
  },
  {
   "cell_type": "code",
   "execution_count": 1,
   "id": "35734b35",
   "metadata": {},
   "outputs": [],
   "source": [
    "from google.cloud import bigquery\n",
    "from google.oauth2 import service_account\n",
    "import pandas as pd\n",
    "from pandas.io import gbq\n",
    "\n",
    "from zipfile import ZipFile"
   ]
  },
  {
   "cell_type": "code",
   "execution_count": 2,
   "id": "7cb06b5c",
   "metadata": {},
   "outputs": [],
   "source": [
    "def tbl_exists(client, table_ref):\n",
    "    from google.cloud.exceptions import NotFound\n",
    "    try:\n",
    "        client.get_table(table_ref)\n",
    "        return True\n",
    "    except NotFound:\n",
    "        return False"
   ]
  },
  {
   "cell_type": "code",
   "execution_count": 3,
   "id": "41eadd8c",
   "metadata": {},
   "outputs": [],
   "source": [
    "# connect to my GBQ instance\n",
    "\n",
    "# set up credentials\n",
    "service_path = \"/Users/austinsmith/Documents/Fall21/ADA/Wedge\"\n",
    "service_file = '/thewedge-austin-4c5ad634b17b.json' \n",
    "gbq_proj_id = 'thewedge-austin'\n",
    "gbq_dataset_id = 'the_wedge_A' \n",
    "\n",
    "private_key =service_path + service_file\n",
    "\n",
    "credentials = service_account.Credentials.from_service_account_file(service_path + service_file)\n",
    "\n",
    "# establish connection with gbq\n",
    "client = bigquery.Client(credentials = credentials, project=gbq_proj_id)"
   ]
  },
  {
   "cell_type": "code",
   "execution_count": 4,
   "id": "0707d07e",
   "metadata": {},
   "outputs": [],
   "source": [
    "# create a table that returns all columns of distinct card numbers in gbq\n",
    "\n",
    "my_table = \"distinct_cards\"\n",
    "\n",
    "table_full_name = \".\".join([gbq_proj_id,gbq_dataset_id,my_table])"
   ]
  },
  {
   "cell_type": "code",
   "execution_count": 5,
   "id": "9a11e673",
   "metadata": {},
   "outputs": [],
   "source": [
    "if not tbl_exists(client, table_full_name) :\n",
    "    table_ref = client.create_table(\n",
    "        table = table_full_name\n",
    "    )\n",
    "else :\n",
    "    table_ref = client.get_table(table_full_name) \n",
    "    #note to self: also clean table out!\n",
    "    \n",
    "    query_text =\"\".join(['DELETE FROM `',table_full_name,'` WHERE 1=1'])\n",
    "    # you have to have WHERE clause in a DELETE for GBQ\n",
    "\n",
    "    job_config = bigquery.QueryJobConfig()\n",
    "\n",
    "    query_job = client.query(\n",
    "        query_text,\n",
    "        location=\"US\",\n",
    "        job_config=job_config,\n",
    "    )  # API request - starts the query\n",
    "\n",
    "    query_job.result()  # Waits for the query to finish"
   ]
  },
  {
   "cell_type": "code",
   "execution_count": 6,
   "id": "af5aa23e",
   "metadata": {},
   "outputs": [
    {
     "name": "stdout",
     "output_type": "stream",
     "text": [
      "Table distinct_cards contains 0 columns\n"
     ]
    }
   ],
   "source": [
    "table = client.get_table(table_ref)\n",
    "print(\"Table {} contains {} columns\".format(table_ref.table_id,len(table.schema)))"
   ]
  },
  {
   "cell_type": "code",
   "execution_count": 7,
   "id": "ddfead5e",
   "metadata": {},
   "outputs": [
    {
     "name": "stdout",
     "output_type": "stream",
     "text": [
      "Query results loaded to the table distinct_cards\n"
     ]
    }
   ],
   "source": [
    "job_config = bigquery.QueryJobConfig(destination=table_ref)\n",
    "\n",
    "# grab all of the distinct card numbers that are members\n",
    "sql =  \"\"\"\n",
    "    SELECT distinct(card_no)\n",
    "    FROM `thewedge-austin.the_wedge_A.clean_transArchive_*` \n",
    "    WHERE card_no != 3\n",
    "    \"\"\"\n",
    "\n",
    "# Start the query, passing in the extra configuration.\n",
    "query_job = client.query(sql, job_config=job_config)  # Make an API request.\n",
    "query_job.result()  # Wait for the job to complete.\n",
    "\n",
    "print(\"Query results loaded to the table {}\".format(table_ref.table_id))"
   ]
  },
  {
   "cell_type": "code",
   "execution_count": 16,
   "id": "5079ea2b",
   "metadata": {},
   "outputs": [
    {
     "name": "stdout",
     "output_type": "stream",
     "text": [
      "Query results loaded to the table distinct_cards_sample\n"
     ]
    }
   ],
   "source": [
    "# then I execute a new query to get a table of a random 1.25% sample of owners\n",
    "# note: landing on 2% was trial/error to get close to 250MB of total data returned\n",
    "\n",
    "my_table = \"distinct_cards_sample\"\n",
    "\n",
    "table_full_name = \".\".join([gbq_proj_id,gbq_dataset_id,my_table])\n",
    "\n",
    "if not tbl_exists(client, table_full_name) :\n",
    "    table_ref = client.create_table(\n",
    "        table = table_full_name\n",
    "    )\n",
    "else :\n",
    "    table_ref = client.get_table(table_full_name) \n",
    "    #note to self: also clean table out!\n",
    "\n",
    "# NEED TO COMMENT THESE OUT IF CREATING THE TABLE FOR THE FIRST TIME\n",
    "    query_text =\"\".join(['DELETE FROM `',table_full_name,'` WHERE 1=1'])\n",
    "    #you have to have WHERE clause in a DELETE for GBQ\n",
    "\n",
    "    job_config = bigquery.QueryJobConfig()\n",
    "\n",
    "    query_job = client.query(\n",
    "        query_text,\n",
    "        location=\"US\",\n",
    "        job_config=job_config,\n",
    "    )  # API request - starts the query\n",
    "\n",
    "    query_job.result()  # Waits for the query to finish\n",
    "\n",
    "job_config = bigquery.QueryJobConfig(destination=table_ref)\n",
    "\n",
    "sql = \"\"\"\n",
    "  SELECT\n",
    "  *\n",
    "FROM\n",
    "  `thewedge-austin.the_wedge_A.distinct_cards` \n",
    "  where rand() < 0.0125\n",
    "\"\"\"\n",
    "\n",
    "query_job = client.query(sql, job_config=job_config)  # Make an API request.\n",
    "query_job.result()  # Wait for the job to complete.\n",
    "\n",
    "print(\"Query results loaded to the table {}\".format(table_ref.table_id))"
   ]
  },
  {
   "cell_type": "code",
   "execution_count": 17,
   "id": "2939c1e2",
   "metadata": {},
   "outputs": [
    {
     "name": "stdout",
     "output_type": "stream",
     "text": [
      "Query results loaded to the table owners_sample\n"
     ]
    }
   ],
   "source": [
    "# finally, I run a query to match all of the transaction data to the owners in that random sample table\n",
    "\n",
    "my_table = \"owners_sample\"\n",
    "\n",
    "table_full_name = \".\".join([gbq_proj_id,gbq_dataset_id,my_table])\n",
    "\n",
    "if not tbl_exists(client, table_full_name) :\n",
    "    table_ref = client.create_table(\n",
    "        table = table_full_name\n",
    "    )\n",
    "else :\n",
    "    table_ref = client.get_table(table_full_name) \n",
    "    #note to self: also clean table out!\n",
    "\n",
    "# NEED TO COMMENT THESE OUT IF CREATING THE TABLE FOR THE FIRST TIME\n",
    "    query_text =\"\".join(['DELETE FROM `',table_full_name,'` WHERE 1=1'])\n",
    "    # you have to have WHERE clause in a DELETE for GBQ\n",
    "\n",
    "    job_config = bigquery.QueryJobConfig()\n",
    "\n",
    "    query_job = client.query(\n",
    "        query_text,\n",
    "        location=\"US\",\n",
    "        job_config=job_config,\n",
    "    )  # API request - starts the query\n",
    "\n",
    "    query_job.result()  # Waits for the query to finish\n",
    "\n",
    "job_config = bigquery.QueryJobConfig(destination=table_ref)\n",
    "\n",
    "sql = \"\"\"\n",
    "SELECT\n",
    "  *\n",
    "FROM\n",
    "  `thewedge-austin.the_wedge_A.clean_transArchive_*`\n",
    "WHERE\n",
    "  card_no IN (\n",
    "  SELECT\n",
    "    *\n",
    "  FROM\n",
    "    `thewedge-austin.the_wedge_A.distinct_cards_sample`)\n",
    "\"\"\"\n",
    "\n",
    "query_job = client.query(sql, job_config=job_config)  # Make an API request.\n",
    "query_job.result()  # Wait for the job to complete.\n",
    "\n",
    "print(\"Query results loaded to the table {}\".format(table_ref.table_id))"
   ]
  },
  {
   "cell_type": "code",
   "execution_count": 18,
   "id": "75946921",
   "metadata": {},
   "outputs": [],
   "source": [
    "# put the results of the query into a pandas dataframe\n",
    "\n",
    "df = client.query(sql).to_dataframe()"
   ]
  },
  {
   "cell_type": "code",
   "execution_count": 19,
   "id": "4e2b0698",
   "metadata": {},
   "outputs": [],
   "source": [
    "# export that dataframe to a local text file\n",
    "# get rid of the index column\n",
    "\n",
    "df.to_csv('owners_sample.txt', sep= '\\t')"
   ]
  },
  {
   "cell_type": "code",
   "execution_count": null,
   "id": "1b92a947",
   "metadata": {},
   "outputs": [],
   "source": []
  }
 ],
 "metadata": {
  "kernelspec": {
   "display_name": "Python 3",
   "language": "python",
   "name": "python3"
  },
  "language_info": {
   "codemirror_mode": {
    "name": "ipython",
    "version": 3
   },
   "file_extension": ".py",
   "mimetype": "text/x-python",
   "name": "python",
   "nbconvert_exporter": "python",
   "pygments_lexer": "ipython3",
   "version": "3.8.8"
  }
 },
 "nbformat": 4,
 "nbformat_minor": 5
}
